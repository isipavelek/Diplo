{
 "cells": [
  {
   "cell_type": "markdown",
   "metadata": {},
   "source": [
    "# Diplomatura en Ciencia de Datos UTN FRC\n",
    "## Modulo 5\n",
    "\n",
    "### Trabajo práctico \n",
    "\n",
    "#### Alumno: Pavelek Israel\n",
    "\n",
    "# Sentiment Analysis sobre reviews\n",
    "\t\t\t\t\t\t\n",
    "A través de este trabajo se busca poder integrar nociones y conocimientos sobre NLP vistas en el módulo, así como en los previos para generar un modelo de machine learning.\n",
    "El objetivo que van a tener es construir un clasificador el cual pueda predecir si una revisión realizada por un usuario es positiva o negativa (buena o mala).\n",
    "Para ello, utilizaremos un conjunto de datos que pertenece a la plataforma ​Yelp​. Esta, posee una red de usuarios, los cuales realizan opiniones sobre lugares nocturnos, espacios culturales, locales comerciales, entre otros.\n",
    "El dataset a trabajar se encuentra en el siguiente ​link​. Deberán realizar un análisis de features, así como su preparación necesaria antes de iniciar el desarrollo del modelo.\n",
    "\t\t\t\t\t\t\n",
    "Objetivos\n",
    "Deberán generar un modelo de machine learning el cual pueda clasificar review en inglés para la plataforma Yelp. Es decir, nuestro modelo recibirá una review de un usuario, y deberá ser capaz de determinar si esta es positiva o negativa.\n",
    "\n",
    "Dataset\n",
    "\n",
    "Las features que contiene este dataset son las siguientes:\n",
    "\t\t\t\t\n",
    "* business_id: identificador del negocio al que se está realizando la review.\n",
    "* cool: cantidad de votos por haber sido una review “cool”.\n",
    "* date: fecha de realización de la revisión\n",
    "* funny: cantidad de votos para una revisión “divertida”.\n",
    "* review_id: identificador único de revisión (ofuscado).\n",
    "* stars: cantidad de estrellas otorgadas por el usuario en referencia a la review.\n",
    "* text: revisión realizada por el usuario sobre un determinado negocio.\n",
    "* useful: cantidad de votos recibido por los usuarios a los cuales le resultó útil la revisión.\n",
    "* user_id: id del usuario en la plataforma (ofuscado)\n",
    "\n",
    "Consideraciones\n",
    "\n",
    "* No contamos con una variable target como pasa en problemas de la vida real. Por ello, un desafío extra que se presenta es cómo definir un target, basado en las features del dataset.\n",
    " \t\t\t\t\n",
    "* Muchas veces cuando importamos un dataset pandas infiere que valor podría ser, de no encontrar un valor conocido pone uno por defecto.Validar que los tipos de datos de las features después de importarse correspondan con su valor intrínseco es una buena práctica.\n",
    "\n",
    "* Haga una rápida exploración de valores atípicos (outliers) del conjunto de datos. Realice los gráficos que considere pertinente para entender la naturaleza del problema.\n",
    "\n",
    "\n",
    "Evaluación\n",
    " \t\t\t\t\t\t\t\t\n",
    "Para la evaluación de los modelos vamos a utilizar las siguientes métricas:\n",
    " \t\t\t\t\t\t\t\n",
    "* Precision\n",
    "* Recall\n",
    "* F1-score\n",
    "* Análisis de AUC ROC"
   ]
  },
  {
   "cell_type": "markdown",
   "metadata": {},
   "source": [
    "# Importamos las Bibliotecas"
   ]
  },
  {
   "cell_type": "code",
   "execution_count": 1,
   "metadata": {
    "_cell_guid": "b1076dfc-b9ad-4769-8c92-a6c4dae69d19",
    "_uuid": "8f2839f25d086af736a60e9eeb907d3b93b6e0e5"
   },
   "outputs": [
    {
     "name": "stderr",
     "output_type": "stream",
     "text": [
      "[nltk_data] Downloading package stopwords to\n",
      "[nltk_data]     C:\\Users\\ipave\\AppData\\Roaming\\nltk_data...\n",
      "[nltk_data]   Package stopwords is already up-to-date!\n",
      "[nltk_data] Downloading package punkt to\n",
      "[nltk_data]     C:\\Users\\ipave\\AppData\\Roaming\\nltk_data...\n",
      "[nltk_data]   Package punkt is already up-to-date!\n"
     ]
    },
    {
     "data": {
      "text/plain": [
       "True"
      ]
     },
     "execution_count": 1,
     "metadata": {},
     "output_type": "execute_result"
    }
   ],
   "source": [
    "import seaborn as sns\n",
    "sns.set()\n",
    "import matplotlib.pyplot as plt\n",
    "import numpy as np # linear algebra\n",
    "import pandas as pd # data processing, CSV file I/O (e.g. pd.read_csv)\n",
    "pd.options.display.float_format = '{:.5f}'.format\n",
    "\n",
    "from sklearn.naive_bayes import MultinomialNB\n",
    "from sklearn.model_selection import train_test_split\n",
    "from sklearn.metrics import classification_report, confusion_matrix\n",
    "sns.set_style('white')\n",
    "%matplotlib inline\n",
    "from sklearn.feature_extraction.text import  TfidfTransformer\n",
    "from sklearn.pipeline import Pipeline\n",
    "from sklearn.feature_extraction.text import CountVectorizer\n",
    "import string\n",
    "from nltk.corpus import stopwords\n",
    "import nltk\n",
    "from textblob import TextBlob\n",
    "from langdetect import DetectorFactory, detect, detect_langs\n",
    "from langdetect.lang_detect_exception import LangDetectException\n",
    "from sklearn.metrics import accuracy_score, precision_score, recall_score, f1_score\n",
    "nltk.download('stopwords')\n",
    "nltk.download('punkt')"
   ]
  },
  {
   "cell_type": "markdown",
   "metadata": {},
   "source": [
    "# Importamos los datos"
   ]
  },
  {
   "cell_type": "code",
   "execution_count": 2,
   "metadata": {
    "_cell_guid": "79c7e3d0-c299-4dcb-8224-4455121ee9b0",
    "_uuid": "d629ff2d2480ee46fbb7e2d37f6b5fab8052498a"
   },
   "outputs": [
    {
     "name": "stderr",
     "output_type": "stream",
     "text": [
      "C:\\Users\\ipave\\anaconda3\\lib\\site-packages\\IPython\\core\\interactiveshell.py:3169: DtypeWarning: Columns (1) have mixed types.Specify dtype option on import or set low_memory=False.\n",
      "  has_raised = await self.run_ast_nodes(code_ast.body, cell_name,\n"
     ]
    }
   ],
   "source": [
    "df = pd.read_csv('reviews_yelp_nn.csv.gz', compression='gzip', sep=\"\\t\", error_bad_lines=False, quotechar = '\"')"
   ]
  },
  {
   "cell_type": "code",
   "execution_count": 3,
   "metadata": {},
   "outputs": [
    {
     "data": {
      "text/html": [
       "<div>\n",
       "<style scoped>\n",
       "    .dataframe tbody tr th:only-of-type {\n",
       "        vertical-align: middle;\n",
       "    }\n",
       "\n",
       "    .dataframe tbody tr th {\n",
       "        vertical-align: top;\n",
       "    }\n",
       "\n",
       "    .dataframe thead th {\n",
       "        text-align: right;\n",
       "    }\n",
       "</style>\n",
       "<table border=\"1\" class=\"dataframe\">\n",
       "  <thead>\n",
       "    <tr style=\"text-align: right;\">\n",
       "      <th></th>\n",
       "      <th>business_id</th>\n",
       "      <th>cool</th>\n",
       "      <th>date</th>\n",
       "      <th>funny</th>\n",
       "      <th>review_id</th>\n",
       "      <th>stars</th>\n",
       "      <th>text</th>\n",
       "      <th>useful</th>\n",
       "      <th>user_id</th>\n",
       "    </tr>\n",
       "  </thead>\n",
       "  <tbody>\n",
       "    <tr>\n",
       "      <th>0</th>\n",
       "      <td>EhGPj8iJDIdaHnWg9d5BgA</td>\n",
       "      <td>0</td>\n",
       "      <td>2016-04-20 14:30:53</td>\n",
       "      <td>0.00000</td>\n",
       "      <td>uJRdHLz4XNmDK5pOkWbZNA</td>\n",
       "      <td>5.00000</td>\n",
       "      <td>Best Dim Sum in the city, their cart service i...</td>\n",
       "      <td>0.00000</td>\n",
       "      <td>POETn3fQcZ8ngLAARCATSg</td>\n",
       "    </tr>\n",
       "    <tr>\n",
       "      <th>1</th>\n",
       "      <td>VPcFNI-6HICR5SJM--KjNA</td>\n",
       "      <td>5</td>\n",
       "      <td>2013-05-14 03:08:12</td>\n",
       "      <td>2.00000</td>\n",
       "      <td>TlPh8jy8bt_TSGfjEw-pvA</td>\n",
       "      <td>5.00000</td>\n",
       "      <td>How... HOW did I not head down here sooner? Fo...</td>\n",
       "      <td>7.00000</td>\n",
       "      <td>oUK6Xs5dPPnP4whFeZExGg</td>\n",
       "    </tr>\n",
       "    <tr>\n",
       "      <th>2</th>\n",
       "      <td>ugdUuApH3pYXggW5qpbALg</td>\n",
       "      <td>0</td>\n",
       "      <td>2016-08-26 16:51:37</td>\n",
       "      <td>0.00000</td>\n",
       "      <td>GmoBAVE1pTo0kjmeKrXmLQ</td>\n",
       "      <td>4.00000</td>\n",
       "      <td>Carnitas were wonderful. First time there and ...</td>\n",
       "      <td>0.00000</td>\n",
       "      <td>SiaSUNlKQK7f57WBPmyyNw</td>\n",
       "    </tr>\n",
       "    <tr>\n",
       "      <th>3</th>\n",
       "      <td>3fCxmmg8nHGaE5upJWQUrw</td>\n",
       "      <td>0</td>\n",
       "      <td>2016-03-24 17:23:19</td>\n",
       "      <td>0.00000</td>\n",
       "      <td>ZHuM9P81zfuNuFZ5ThXNRg</td>\n",
       "      <td>5.00000</td>\n",
       "      <td>Great staff who are always willing to help. I ...</td>\n",
       "      <td>0.00000</td>\n",
       "      <td>PsH5Qi8R69WAlhNv8mXWRA</td>\n",
       "    </tr>\n",
       "    <tr>\n",
       "      <th>4</th>\n",
       "      <td>LAqbIi2TDn8BDvPB0nLVhQ</td>\n",
       "      <td>1</td>\n",
       "      <td>2012-10-25 15:02:48</td>\n",
       "      <td>0.00000</td>\n",
       "      <td>-2Ce00mfWYP20yt7k6kARg</td>\n",
       "      <td>3.00000</td>\n",
       "      <td>This place is bigger, brighter, new so it's cl...</td>\n",
       "      <td>3.00000</td>\n",
       "      <td>r-zUIQPaHzvIyL93wQaoiQ</td>\n",
       "    </tr>\n",
       "  </tbody>\n",
       "</table>\n",
       "</div>"
      ],
      "text/plain": [
       "              business_id cool                 date   funny  \\\n",
       "0  EhGPj8iJDIdaHnWg9d5BgA    0  2016-04-20 14:30:53 0.00000   \n",
       "1  VPcFNI-6HICR5SJM--KjNA    5  2013-05-14 03:08:12 2.00000   \n",
       "2  ugdUuApH3pYXggW5qpbALg    0  2016-08-26 16:51:37 0.00000   \n",
       "3  3fCxmmg8nHGaE5upJWQUrw    0  2016-03-24 17:23:19 0.00000   \n",
       "4  LAqbIi2TDn8BDvPB0nLVhQ    1  2012-10-25 15:02:48 0.00000   \n",
       "\n",
       "                review_id   stars  \\\n",
       "0  uJRdHLz4XNmDK5pOkWbZNA 5.00000   \n",
       "1  TlPh8jy8bt_TSGfjEw-pvA 5.00000   \n",
       "2  GmoBAVE1pTo0kjmeKrXmLQ 4.00000   \n",
       "3  ZHuM9P81zfuNuFZ5ThXNRg 5.00000   \n",
       "4  -2Ce00mfWYP20yt7k6kARg 3.00000   \n",
       "\n",
       "                                                text  useful  \\\n",
       "0  Best Dim Sum in the city, their cart service i... 0.00000   \n",
       "1  How... HOW did I not head down here sooner? Fo... 7.00000   \n",
       "2  Carnitas were wonderful. First time there and ... 0.00000   \n",
       "3  Great staff who are always willing to help. I ... 0.00000   \n",
       "4  This place is bigger, brighter, new so it's cl... 3.00000   \n",
       "\n",
       "                  user_id  \n",
       "0  POETn3fQcZ8ngLAARCATSg  \n",
       "1  oUK6Xs5dPPnP4whFeZExGg  \n",
       "2  SiaSUNlKQK7f57WBPmyyNw  \n",
       "3  PsH5Qi8R69WAlhNv8mXWRA  \n",
       "4  r-zUIQPaHzvIyL93wQaoiQ  "
      ]
     },
     "execution_count": 3,
     "metadata": {},
     "output_type": "execute_result"
    }
   ],
   "source": [
    "df.head()"
   ]
  },
  {
   "cell_type": "code",
   "execution_count": 4,
   "metadata": {},
   "outputs": [
    {
     "data": {
      "text/plain": [
       "(3342958, 9)"
      ]
     },
     "execution_count": 4,
     "metadata": {},
     "output_type": "execute_result"
    }
   ],
   "source": [
    "df.shape"
   ]
  },
  {
   "cell_type": "code",
   "execution_count": 5,
   "metadata": {},
   "outputs": [
    {
     "name": "stdout",
     "output_type": "stream",
     "text": [
      "<class 'pandas.core.frame.DataFrame'>\n",
      "RangeIndex: 3342958 entries, 0 to 3342957\n",
      "Data columns (total 9 columns):\n",
      " #   Column       Dtype  \n",
      "---  ------       -----  \n",
      " 0   business_id  object \n",
      " 1   cool         object \n",
      " 2   date         object \n",
      " 3   funny        float64\n",
      " 4   review_id    object \n",
      " 5   stars        float64\n",
      " 6   text         object \n",
      " 7   useful       float64\n",
      " 8   user_id      object \n",
      "dtypes: float64(3), object(6)\n",
      "memory usage: 229.5+ MB\n"
     ]
    }
   ],
   "source": [
    "df.info()"
   ]
  },
  {
   "cell_type": "markdown",
   "metadata": {},
   "source": [
    "Tenemos varias columnas que no aportan información como los IDs y la fecha. Luego algunas columnas son categoricas y deberian ser numéricas como 'Cool'"
   ]
  },
  {
   "cell_type": "markdown",
   "metadata": {},
   "source": [
    "# Limpieza de datos"
   ]
  },
  {
   "cell_type": "code",
   "execution_count": 6,
   "metadata": {},
   "outputs": [
    {
     "data": {
      "text/html": [
       "<div>\n",
       "<style scoped>\n",
       "    .dataframe tbody tr th:only-of-type {\n",
       "        vertical-align: middle;\n",
       "    }\n",
       "\n",
       "    .dataframe tbody tr th {\n",
       "        vertical-align: top;\n",
       "    }\n",
       "\n",
       "    .dataframe thead th {\n",
       "        text-align: right;\n",
       "    }\n",
       "</style>\n",
       "<table border=\"1\" class=\"dataframe\">\n",
       "  <thead>\n",
       "    <tr style=\"text-align: right;\">\n",
       "      <th></th>\n",
       "      <th>business_id</th>\n",
       "      <th>cool</th>\n",
       "      <th>date</th>\n",
       "      <th>funny</th>\n",
       "      <th>review_id</th>\n",
       "      <th>stars</th>\n",
       "      <th>text</th>\n",
       "      <th>useful</th>\n",
       "      <th>user_id</th>\n",
       "    </tr>\n",
       "  </thead>\n",
       "  <tbody>\n",
       "    <tr>\n",
       "      <th>0</th>\n",
       "      <td>EhGPj8iJDIdaHnWg9d5BgA</td>\n",
       "      <td>0</td>\n",
       "      <td>2016-04-20 14:30:53</td>\n",
       "      <td>0.00000</td>\n",
       "      <td>uJRdHLz4XNmDK5pOkWbZNA</td>\n",
       "      <td>5.00000</td>\n",
       "      <td>Best Dim Sum in the city, their cart service i...</td>\n",
       "      <td>0.00000</td>\n",
       "      <td>POETn3fQcZ8ngLAARCATSg</td>\n",
       "    </tr>\n",
       "    <tr>\n",
       "      <th>1</th>\n",
       "      <td>VPcFNI-6HICR5SJM--KjNA</td>\n",
       "      <td>5</td>\n",
       "      <td>2013-05-14 03:08:12</td>\n",
       "      <td>2.00000</td>\n",
       "      <td>TlPh8jy8bt_TSGfjEw-pvA</td>\n",
       "      <td>5.00000</td>\n",
       "      <td>How... HOW did I not head down here sooner? Fo...</td>\n",
       "      <td>7.00000</td>\n",
       "      <td>oUK6Xs5dPPnP4whFeZExGg</td>\n",
       "    </tr>\n",
       "    <tr>\n",
       "      <th>2</th>\n",
       "      <td>ugdUuApH3pYXggW5qpbALg</td>\n",
       "      <td>0</td>\n",
       "      <td>2016-08-26 16:51:37</td>\n",
       "      <td>0.00000</td>\n",
       "      <td>GmoBAVE1pTo0kjmeKrXmLQ</td>\n",
       "      <td>4.00000</td>\n",
       "      <td>Carnitas were wonderful. First time there and ...</td>\n",
       "      <td>0.00000</td>\n",
       "      <td>SiaSUNlKQK7f57WBPmyyNw</td>\n",
       "    </tr>\n",
       "    <tr>\n",
       "      <th>3</th>\n",
       "      <td>3fCxmmg8nHGaE5upJWQUrw</td>\n",
       "      <td>0</td>\n",
       "      <td>2016-03-24 17:23:19</td>\n",
       "      <td>0.00000</td>\n",
       "      <td>ZHuM9P81zfuNuFZ5ThXNRg</td>\n",
       "      <td>5.00000</td>\n",
       "      <td>Great staff who are always willing to help. I ...</td>\n",
       "      <td>0.00000</td>\n",
       "      <td>PsH5Qi8R69WAlhNv8mXWRA</td>\n",
       "    </tr>\n",
       "    <tr>\n",
       "      <th>4</th>\n",
       "      <td>LAqbIi2TDn8BDvPB0nLVhQ</td>\n",
       "      <td>1</td>\n",
       "      <td>2012-10-25 15:02:48</td>\n",
       "      <td>0.00000</td>\n",
       "      <td>-2Ce00mfWYP20yt7k6kARg</td>\n",
       "      <td>3.00000</td>\n",
       "      <td>This place is bigger, brighter, new so it's cl...</td>\n",
       "      <td>3.00000</td>\n",
       "      <td>r-zUIQPaHzvIyL93wQaoiQ</td>\n",
       "    </tr>\n",
       "    <tr>\n",
       "      <th>5</th>\n",
       "      <td>wu5nk3pY1e_ou_Le_U52Sw</td>\n",
       "      <td>0</td>\n",
       "      <td>2010-04-20 20:43:49</td>\n",
       "      <td>2.00000</td>\n",
       "      <td>43ps1xif7NwDLEyEsc5LSw</td>\n",
       "      <td>4.00000</td>\n",
       "      <td>Sheer coincidence that I'm writing a review fo...</td>\n",
       "      <td>0.00000</td>\n",
       "      <td>MAxVtL7aoYbbQav4c3jnlw</td>\n",
       "    </tr>\n",
       "    <tr>\n",
       "      <th>6</th>\n",
       "      <td>v9u0NgjA4iQeKGevFnYSCA</td>\n",
       "      <td>1</td>\n",
       "      <td>2008-09-21 02:56:01</td>\n",
       "      <td>0.00000</td>\n",
       "      <td>7fPNjIHDyLX7gBzj11aZ_Q</td>\n",
       "      <td>4.00000</td>\n",
       "      <td>just got back from a weekend here......and lov...</td>\n",
       "      <td>1.00000</td>\n",
       "      <td>90nM8jGWZVvlm_5_Hbm_2Q</td>\n",
       "    </tr>\n",
       "    <tr>\n",
       "      <th>7</th>\n",
       "      <td>WpI5MZC3XzlTpcUOKXzCbA</td>\n",
       "      <td>1</td>\n",
       "      <td>2010-04-02 00:40:52</td>\n",
       "      <td>0.00000</td>\n",
       "      <td>_9nDhOlBBg6ZM3e0DGKn2g</td>\n",
       "      <td>5.00000</td>\n",
       "      <td>I drive far to get to Lindo Michoacan, but it'...</td>\n",
       "      <td>2.00000</td>\n",
       "      <td>Ii7GTLNo-Uhx3meHBaBTGw</td>\n",
       "    </tr>\n",
       "    <tr>\n",
       "      <th>8</th>\n",
       "      <td>dB0MPu_DmFVoju48mIXx6w</td>\n",
       "      <td>0</td>\n",
       "      <td>2015-05-01 14:50:58</td>\n",
       "      <td>0.00000</td>\n",
       "      <td>0o2EtY5n2xhN6af2SfrjIQ</td>\n",
       "      <td>4.00000</td>\n",
       "      <td>Ordered 1 pizza. 3 donairs and cheezy bread at...</td>\n",
       "      <td>0.00000</td>\n",
       "      <td>N8WO5qWEQnl5ITw8ZNlYrw</td>\n",
       "    </tr>\n",
       "    <tr>\n",
       "      <th>9</th>\n",
       "      <td>rO3lZpVSoRMhhd0AEJBjlg</td>\n",
       "      <td>0</td>\n",
       "      <td>2018-06-26 21:01:56</td>\n",
       "      <td>0.00000</td>\n",
       "      <td>Arr0y_0xtSw3NlaiS-FPbw</td>\n",
       "      <td>2.00000</td>\n",
       "      <td>I feel conflicted about reviewing this place. ...</td>\n",
       "      <td>1.00000</td>\n",
       "      <td>4FDMtqj1Pyg3kLUzIE0f1w</td>\n",
       "    </tr>\n",
       "  </tbody>\n",
       "</table>\n",
       "</div>"
      ],
      "text/plain": [
       "              business_id cool                 date   funny  \\\n",
       "0  EhGPj8iJDIdaHnWg9d5BgA    0  2016-04-20 14:30:53 0.00000   \n",
       "1  VPcFNI-6HICR5SJM--KjNA    5  2013-05-14 03:08:12 2.00000   \n",
       "2  ugdUuApH3pYXggW5qpbALg    0  2016-08-26 16:51:37 0.00000   \n",
       "3  3fCxmmg8nHGaE5upJWQUrw    0  2016-03-24 17:23:19 0.00000   \n",
       "4  LAqbIi2TDn8BDvPB0nLVhQ    1  2012-10-25 15:02:48 0.00000   \n",
       "5  wu5nk3pY1e_ou_Le_U52Sw    0  2010-04-20 20:43:49 2.00000   \n",
       "6  v9u0NgjA4iQeKGevFnYSCA    1  2008-09-21 02:56:01 0.00000   \n",
       "7  WpI5MZC3XzlTpcUOKXzCbA    1  2010-04-02 00:40:52 0.00000   \n",
       "8  dB0MPu_DmFVoju48mIXx6w    0  2015-05-01 14:50:58 0.00000   \n",
       "9  rO3lZpVSoRMhhd0AEJBjlg    0  2018-06-26 21:01:56 0.00000   \n",
       "\n",
       "                review_id   stars  \\\n",
       "0  uJRdHLz4XNmDK5pOkWbZNA 5.00000   \n",
       "1  TlPh8jy8bt_TSGfjEw-pvA 5.00000   \n",
       "2  GmoBAVE1pTo0kjmeKrXmLQ 4.00000   \n",
       "3  ZHuM9P81zfuNuFZ5ThXNRg 5.00000   \n",
       "4  -2Ce00mfWYP20yt7k6kARg 3.00000   \n",
       "5  43ps1xif7NwDLEyEsc5LSw 4.00000   \n",
       "6  7fPNjIHDyLX7gBzj11aZ_Q 4.00000   \n",
       "7  _9nDhOlBBg6ZM3e0DGKn2g 5.00000   \n",
       "8  0o2EtY5n2xhN6af2SfrjIQ 4.00000   \n",
       "9  Arr0y_0xtSw3NlaiS-FPbw 2.00000   \n",
       "\n",
       "                                                text  useful  \\\n",
       "0  Best Dim Sum in the city, their cart service i... 0.00000   \n",
       "1  How... HOW did I not head down here sooner? Fo... 7.00000   \n",
       "2  Carnitas were wonderful. First time there and ... 0.00000   \n",
       "3  Great staff who are always willing to help. I ... 0.00000   \n",
       "4  This place is bigger, brighter, new so it's cl... 3.00000   \n",
       "5  Sheer coincidence that I'm writing a review fo... 0.00000   \n",
       "6  just got back from a weekend here......and lov... 1.00000   \n",
       "7  I drive far to get to Lindo Michoacan, but it'... 2.00000   \n",
       "8  Ordered 1 pizza. 3 donairs and cheezy bread at... 0.00000   \n",
       "9  I feel conflicted about reviewing this place. ... 1.00000   \n",
       "\n",
       "                  user_id  \n",
       "0  POETn3fQcZ8ngLAARCATSg  \n",
       "1  oUK6Xs5dPPnP4whFeZExGg  \n",
       "2  SiaSUNlKQK7f57WBPmyyNw  \n",
       "3  PsH5Qi8R69WAlhNv8mXWRA  \n",
       "4  r-zUIQPaHzvIyL93wQaoiQ  \n",
       "5  MAxVtL7aoYbbQav4c3jnlw  \n",
       "6  90nM8jGWZVvlm_5_Hbm_2Q  \n",
       "7  Ii7GTLNo-Uhx3meHBaBTGw  \n",
       "8  N8WO5qWEQnl5ITw8ZNlYrw  \n",
       "9  4FDMtqj1Pyg3kLUzIE0f1w  "
      ]
     },
     "execution_count": 6,
     "metadata": {},
     "output_type": "execute_result"
    }
   ],
   "source": [
    "df.head(10)"
   ]
  },
  {
   "cell_type": "code",
   "execution_count": 7,
   "metadata": {},
   "outputs": [],
   "source": [
    "## Removemos las columnas que no aportan al modelo\n",
    "df_work= df.drop(columns=['date', 'review_id', 'user_id','business_id'], axis=1)"
   ]
  },
  {
   "cell_type": "code",
   "execution_count": 8,
   "metadata": {},
   "outputs": [
    {
     "data": {
      "text/html": [
       "<div>\n",
       "<style scoped>\n",
       "    .dataframe tbody tr th:only-of-type {\n",
       "        vertical-align: middle;\n",
       "    }\n",
       "\n",
       "    .dataframe tbody tr th {\n",
       "        vertical-align: top;\n",
       "    }\n",
       "\n",
       "    .dataframe thead th {\n",
       "        text-align: right;\n",
       "    }\n",
       "</style>\n",
       "<table border=\"1\" class=\"dataframe\">\n",
       "  <thead>\n",
       "    <tr style=\"text-align: right;\">\n",
       "      <th></th>\n",
       "      <th>cool</th>\n",
       "      <th>funny</th>\n",
       "      <th>stars</th>\n",
       "      <th>text</th>\n",
       "      <th>useful</th>\n",
       "    </tr>\n",
       "  </thead>\n",
       "  <tbody>\n",
       "    <tr>\n",
       "      <th>0</th>\n",
       "      <td>0</td>\n",
       "      <td>0.00000</td>\n",
       "      <td>5.00000</td>\n",
       "      <td>Best Dim Sum in the city, their cart service i...</td>\n",
       "      <td>0.00000</td>\n",
       "    </tr>\n",
       "    <tr>\n",
       "      <th>1</th>\n",
       "      <td>5</td>\n",
       "      <td>2.00000</td>\n",
       "      <td>5.00000</td>\n",
       "      <td>How... HOW did I not head down here sooner? Fo...</td>\n",
       "      <td>7.00000</td>\n",
       "    </tr>\n",
       "    <tr>\n",
       "      <th>2</th>\n",
       "      <td>0</td>\n",
       "      <td>0.00000</td>\n",
       "      <td>4.00000</td>\n",
       "      <td>Carnitas were wonderful. First time there and ...</td>\n",
       "      <td>0.00000</td>\n",
       "    </tr>\n",
       "    <tr>\n",
       "      <th>3</th>\n",
       "      <td>0</td>\n",
       "      <td>0.00000</td>\n",
       "      <td>5.00000</td>\n",
       "      <td>Great staff who are always willing to help. I ...</td>\n",
       "      <td>0.00000</td>\n",
       "    </tr>\n",
       "    <tr>\n",
       "      <th>4</th>\n",
       "      <td>1</td>\n",
       "      <td>0.00000</td>\n",
       "      <td>3.00000</td>\n",
       "      <td>This place is bigger, brighter, new so it's cl...</td>\n",
       "      <td>3.00000</td>\n",
       "    </tr>\n",
       "  </tbody>\n",
       "</table>\n",
       "</div>"
      ],
      "text/plain": [
       "  cool   funny   stars                                               text  \\\n",
       "0    0 0.00000 5.00000  Best Dim Sum in the city, their cart service i...   \n",
       "1    5 2.00000 5.00000  How... HOW did I not head down here sooner? Fo...   \n",
       "2    0 0.00000 4.00000  Carnitas were wonderful. First time there and ...   \n",
       "3    0 0.00000 5.00000  Great staff who are always willing to help. I ...   \n",
       "4    1 0.00000 3.00000  This place is bigger, brighter, new so it's cl...   \n",
       "\n",
       "   useful  \n",
       "0 0.00000  \n",
       "1 7.00000  \n",
       "2 0.00000  \n",
       "3 0.00000  \n",
       "4 3.00000  "
      ]
     },
     "execution_count": 8,
     "metadata": {},
     "output_type": "execute_result"
    }
   ],
   "source": [
    "df_work.head()"
   ]
  },
  {
   "cell_type": "code",
   "execution_count": 9,
   "metadata": {},
   "outputs": [],
   "source": [
    "## Las ordeno dejando al final el texto (solo por un tema visual)\n",
    "df_work=df_work[['cool','funny','useful','stars','text']]"
   ]
  },
  {
   "cell_type": "code",
   "execution_count": 10,
   "metadata": {},
   "outputs": [
    {
     "data": {
      "text/html": [
       "<div>\n",
       "<style scoped>\n",
       "    .dataframe tbody tr th:only-of-type {\n",
       "        vertical-align: middle;\n",
       "    }\n",
       "\n",
       "    .dataframe tbody tr th {\n",
       "        vertical-align: top;\n",
       "    }\n",
       "\n",
       "    .dataframe thead th {\n",
       "        text-align: right;\n",
       "    }\n",
       "</style>\n",
       "<table border=\"1\" class=\"dataframe\">\n",
       "  <thead>\n",
       "    <tr style=\"text-align: right;\">\n",
       "      <th></th>\n",
       "      <th>cool</th>\n",
       "      <th>funny</th>\n",
       "      <th>useful</th>\n",
       "      <th>stars</th>\n",
       "      <th>text</th>\n",
       "    </tr>\n",
       "  </thead>\n",
       "  <tbody>\n",
       "    <tr>\n",
       "      <th>0</th>\n",
       "      <td>0</td>\n",
       "      <td>0.00000</td>\n",
       "      <td>0.00000</td>\n",
       "      <td>5.00000</td>\n",
       "      <td>Best Dim Sum in the city, their cart service i...</td>\n",
       "    </tr>\n",
       "    <tr>\n",
       "      <th>1</th>\n",
       "      <td>5</td>\n",
       "      <td>2.00000</td>\n",
       "      <td>7.00000</td>\n",
       "      <td>5.00000</td>\n",
       "      <td>How... HOW did I not head down here sooner? Fo...</td>\n",
       "    </tr>\n",
       "    <tr>\n",
       "      <th>2</th>\n",
       "      <td>0</td>\n",
       "      <td>0.00000</td>\n",
       "      <td>0.00000</td>\n",
       "      <td>4.00000</td>\n",
       "      <td>Carnitas were wonderful. First time there and ...</td>\n",
       "    </tr>\n",
       "    <tr>\n",
       "      <th>3</th>\n",
       "      <td>0</td>\n",
       "      <td>0.00000</td>\n",
       "      <td>0.00000</td>\n",
       "      <td>5.00000</td>\n",
       "      <td>Great staff who are always willing to help. I ...</td>\n",
       "    </tr>\n",
       "    <tr>\n",
       "      <th>4</th>\n",
       "      <td>1</td>\n",
       "      <td>0.00000</td>\n",
       "      <td>3.00000</td>\n",
       "      <td>3.00000</td>\n",
       "      <td>This place is bigger, brighter, new so it's cl...</td>\n",
       "    </tr>\n",
       "  </tbody>\n",
       "</table>\n",
       "</div>"
      ],
      "text/plain": [
       "  cool   funny  useful   stars  \\\n",
       "0    0 0.00000 0.00000 5.00000   \n",
       "1    5 2.00000 7.00000 5.00000   \n",
       "2    0 0.00000 0.00000 4.00000   \n",
       "3    0 0.00000 0.00000 5.00000   \n",
       "4    1 0.00000 3.00000 3.00000   \n",
       "\n",
       "                                                text  \n",
       "0  Best Dim Sum in the city, their cart service i...  \n",
       "1  How... HOW did I not head down here sooner? Fo...  \n",
       "2  Carnitas were wonderful. First time there and ...  \n",
       "3  Great staff who are always willing to help. I ...  \n",
       "4  This place is bigger, brighter, new so it's cl...  "
      ]
     },
     "execution_count": 10,
     "metadata": {},
     "output_type": "execute_result"
    }
   ],
   "source": [
    "df_work.head()"
   ]
  },
  {
   "cell_type": "markdown",
   "metadata": {},
   "source": [
    "### Veamos si tenemos Nulos."
   ]
  },
  {
   "cell_type": "code",
   "execution_count": 11,
   "metadata": {},
   "outputs": [
    {
     "data": {
      "text/plain": [
       "cool       3\n",
       "funny      9\n",
       "useful    14\n",
       "stars      9\n",
       "text      10\n",
       "dtype: int64"
      ]
     },
     "execution_count": 11,
     "metadata": {},
     "output_type": "execute_result"
    }
   ],
   "source": [
    "df_work.isna().sum() "
   ]
  },
  {
   "cell_type": "code",
   "execution_count": 12,
   "metadata": {},
   "outputs": [],
   "source": [
    "### Como son muy pocos los valores Nulos eliminamos estas entradas\n",
    "df_work=df_work.dropna()"
   ]
  },
  {
   "cell_type": "code",
   "execution_count": 13,
   "metadata": {},
   "outputs": [],
   "source": [
    "### Modificamos la columna cool y la hacemos numérica\n",
    "df_work[\"cool\"]=df_work[\"cool\"].astype(float)"
   ]
  },
  {
   "cell_type": "code",
   "execution_count": 14,
   "metadata": {},
   "outputs": [
    {
     "data": {
      "text/plain": [
       "(3342943, 5)"
      ]
     },
     "execution_count": 14,
     "metadata": {},
     "output_type": "execute_result"
    }
   ],
   "source": [
    "df_work.shape"
   ]
  },
  {
   "cell_type": "code",
   "execution_count": 15,
   "metadata": {},
   "outputs": [
    {
     "data": {
      "text/html": [
       "<div>\n",
       "<style scoped>\n",
       "    .dataframe tbody tr th:only-of-type {\n",
       "        vertical-align: middle;\n",
       "    }\n",
       "\n",
       "    .dataframe tbody tr th {\n",
       "        vertical-align: top;\n",
       "    }\n",
       "\n",
       "    .dataframe thead th {\n",
       "        text-align: right;\n",
       "    }\n",
       "</style>\n",
       "<table border=\"1\" class=\"dataframe\">\n",
       "  <thead>\n",
       "    <tr style=\"text-align: right;\">\n",
       "      <th></th>\n",
       "      <th>cool</th>\n",
       "      <th>funny</th>\n",
       "      <th>useful</th>\n",
       "      <th>stars</th>\n",
       "    </tr>\n",
       "  </thead>\n",
       "  <tbody>\n",
       "    <tr>\n",
       "      <th>count</th>\n",
       "      <td>3342943.00000</td>\n",
       "      <td>3342943.00000</td>\n",
       "      <td>3342943.00000</td>\n",
       "      <td>3342943.00000</td>\n",
       "    </tr>\n",
       "    <tr>\n",
       "      <th>mean</th>\n",
       "      <td>0.57720</td>\n",
       "      <td>0.48145</td>\n",
       "      <td>1.35204</td>\n",
       "      <td>3.71637</td>\n",
       "    </tr>\n",
       "    <tr>\n",
       "      <th>std</th>\n",
       "      <td>2.35166</td>\n",
       "      <td>2.34124</td>\n",
       "      <td>3.64557</td>\n",
       "      <td>1.46382</td>\n",
       "    </tr>\n",
       "    <tr>\n",
       "      <th>min</th>\n",
       "      <td>-1.00000</td>\n",
       "      <td>0.00000</td>\n",
       "      <td>-1.00000</td>\n",
       "      <td>1.00000</td>\n",
       "    </tr>\n",
       "    <tr>\n",
       "      <th>25%</th>\n",
       "      <td>0.00000</td>\n",
       "      <td>0.00000</td>\n",
       "      <td>0.00000</td>\n",
       "      <td>3.00000</td>\n",
       "    </tr>\n",
       "    <tr>\n",
       "      <th>50%</th>\n",
       "      <td>0.00000</td>\n",
       "      <td>0.00000</td>\n",
       "      <td>0.00000</td>\n",
       "      <td>4.00000</td>\n",
       "    </tr>\n",
       "    <tr>\n",
       "      <th>75%</th>\n",
       "      <td>0.00000</td>\n",
       "      <td>0.00000</td>\n",
       "      <td>2.00000</td>\n",
       "      <td>5.00000</td>\n",
       "    </tr>\n",
       "    <tr>\n",
       "      <th>max</th>\n",
       "      <td>506.00000</td>\n",
       "      <td>970.00000</td>\n",
       "      <td>1122.00000</td>\n",
       "      <td>5.00000</td>\n",
       "    </tr>\n",
       "  </tbody>\n",
       "</table>\n",
       "</div>"
      ],
      "text/plain": [
       "               cool         funny        useful         stars\n",
       "count 3342943.00000 3342943.00000 3342943.00000 3342943.00000\n",
       "mean        0.57720       0.48145       1.35204       3.71637\n",
       "std         2.35166       2.34124       3.64557       1.46382\n",
       "min        -1.00000       0.00000      -1.00000       1.00000\n",
       "25%         0.00000       0.00000       0.00000       3.00000\n",
       "50%         0.00000       0.00000       0.00000       4.00000\n",
       "75%         0.00000       0.00000       2.00000       5.00000\n",
       "max       506.00000     970.00000    1122.00000       5.00000"
      ]
     },
     "execution_count": 15,
     "metadata": {},
     "output_type": "execute_result"
    }
   ],
   "source": [
    "df_work.describe()"
   ]
  },
  {
   "cell_type": "markdown",
   "metadata": {},
   "source": [
    "Vemos que las columnas Cool, Funny y Usefull, poseen una media baja, por lo que vemos que todos los valores son bajos. Seguramente contengamos outliers. \n"
   ]
  },
  {
   "cell_type": "code",
   "execution_count": 16,
   "metadata": {},
   "outputs": [
    {
     "data": {
      "text/plain": [
       "cool      0\n",
       "funny     0\n",
       "useful    0\n",
       "stars     0\n",
       "text      0\n",
       "dtype: int64"
      ]
     },
     "execution_count": 16,
     "metadata": {},
     "output_type": "execute_result"
    }
   ],
   "source": [
    "### Chequeamos que no sigamos conteniendo nulos\n",
    "df_work.isna().sum() "
   ]
  },
  {
   "cell_type": "markdown",
   "metadata": {},
   "source": [
    "# Manejo de outliers"
   ]
  },
  {
   "cell_type": "code",
   "execution_count": null,
   "metadata": {},
   "outputs": [],
   "source": [
    "fig, axes = plt.subplots(nrows=3, ncols=4, figsize=(20,6))\n",
    "\n",
    "sns.boxplot(x=df_work['cool'], ax=axes[0][0])\n",
    "sns.boxplot(x=df_work['funny'], ax=axes[0][1])\n",
    "sns.boxplot(x=df_work['useful'], ax=axes[0][2])\n",
    "sns.boxplot(x=df_work['stars'], ax=axes[0][3])\n",
    "\n",
    "sns.violinplot(x=df_work['cool'], ax=axes[1][0], palette=\"Reds\")\n",
    "sns.violinplot(x=df_work['funny'], ax=axes[1][1], palette=\"Greens\")\n",
    "sns.violinplot(x=df_work['useful'], ax=axes[1][2], palette=\"Blues\")\n",
    "sns.violinplot(x=df_work['stars'], ax=axes[1][3], palette=\"Oranges\")\n",
    "\n",
    "\n",
    "sns.histplot(data=df_work, x=df_work['cool'],  ax=axes[2][0])\n",
    "sns.histplot(data=df_work, x=df_work['funny'],ax=axes[2][1])\n",
    "sns.histplot(data=df_work, x=df_work['useful'],  ax=axes[2][2])\n",
    "sns.histplot(data=df_work, x=df_work['stars'],  ax=axes[2][3])"
   ]
  },
  {
   "cell_type": "code",
   "execution_count": null,
   "metadata": {},
   "outputs": [],
   "source": [
    "quantile1, quantile3= np.percentile(df_work['useful'],[10,90])\n",
    "print(quantile1,quantile3)\n",
    "df_work=df_work[(df_work.useful <= quantile3) & (df_work.useful >= quantile1 )]"
   ]
  },
  {
   "cell_type": "code",
   "execution_count": null,
   "metadata": {},
   "outputs": [],
   "source": [
    "quantile1, quantile3= np.percentile(df_work['stars'],[10,90])\n",
    "print(quantile1,quantile3)\n",
    "df_work=df_work[(df_work.stars <= quantile3) & (df_work.stars >= quantile1 )]\n",
    "df_work.shape"
   ]
  },
  {
   "cell_type": "code",
   "execution_count": null,
   "metadata": {},
   "outputs": [],
   "source": [
    "quantile1, quantile3= np.percentile(df_work['funny'],[10,90])\n",
    "print(quantile1,quantile3)\n",
    "df_work=df_work[(df_work.funny <= quantile3) & (df_work.funny >= quantile1 )]\n",
    "df_work.shape"
   ]
  },
  {
   "cell_type": "code",
   "execution_count": null,
   "metadata": {},
   "outputs": [],
   "source": [
    "quantile1, quantile3= np.percentile(df_work['cool'],[10,90])\n",
    "print(quantile1,quantile3)\n",
    "df_work=df_work[(df_work.cool <= quantile3) & (df_work.cool >= quantile1 )]\n",
    "df_work.shape"
   ]
  },
  {
   "cell_type": "code",
   "execution_count": null,
   "metadata": {},
   "outputs": [],
   "source": [
    "df_work.describe()"
   ]
  },
  {
   "cell_type": "code",
   "execution_count": null,
   "metadata": {},
   "outputs": [],
   "source": [
    "sns.pairplot(df_work)"
   ]
  },
  {
   "cell_type": "markdown",
   "metadata": {},
   "source": [
    "Vemos que las columnas cool funny y useful son variables booleanas mientras que stars posee un valor entre 1 y 5."
   ]
  },
  {
   "cell_type": "code",
   "execution_count": null,
   "metadata": {},
   "outputs": [],
   "source": [
    "df_work.info()"
   ]
  },
  {
   "cell_type": "code",
   "execution_count": null,
   "metadata": {},
   "outputs": [],
   "source": [
    "# Dado que las columnas cool, funny, stars y usefull solo poseen valores enteros, sin comas, pasamos todo a entero\n",
    "df_work[[\"cool\",\"funny\",\"stars\",\"useful\"]]=df_work[[\"cool\",\"funny\",\"stars\",\"useful\"]].astype(int)"
   ]
  },
  {
   "cell_type": "code",
   "execution_count": null,
   "metadata": {},
   "outputs": [],
   "source": [
    "df_work.info()"
   ]
  },
  {
   "cell_type": "markdown",
   "metadata": {},
   "source": [
    "####  Vamos a ver la longitudes de los textos"
   ]
  },
  {
   "cell_type": "code",
   "execution_count": null,
   "metadata": {},
   "outputs": [],
   "source": [
    "df_work[\"length\"] = df_work.text.apply(len)\n"
   ]
  },
  {
   "cell_type": "markdown",
   "metadata": {},
   "source": [
    "Vamos a setear como nuestro Target stars, por lo tanto nos quedamos con los valores extremos 1 y 5 como una reseña negativa y positiva respectivamente"
   ]
  },
  {
   "cell_type": "code",
   "execution_count": null,
   "metadata": {},
   "outputs": [],
   "source": [
    "filter_bad_good = df_work.stars.isin([1, 5])\n",
    "data_bad_good = df_work[filter_bad_good]"
   ]
  },
  {
   "cell_type": "code",
   "execution_count": null,
   "metadata": {},
   "outputs": [],
   "source": [
    "data_bad_good"
   ]
  },
  {
   "cell_type": "markdown",
   "metadata": {},
   "source": [
    "### Normalización "
   ]
  },
  {
   "cell_type": "code",
   "execution_count": null,
   "metadata": {},
   "outputs": [],
   "source": [
    "## Removemos de nuestro Corpus todos los puntos y StopWords\n",
    "\n",
    "stemmer = nltk.RSLPStemmer()\n",
    "stopwords = list(stopwords.words(\"english\"))\n",
    "punctuation = [word for word in string.punctuation]\n",
    "punctuation += ['...', '  ', '\\n','!','!!','!!!','!!!!']+ list(\"0123456789\")\n",
    "\n",
    "def remove_punctuation(serie, stopwords):\n",
    "    aux = list()\n",
    "    for el in serie:\n",
    "        for word in stopwords:\n",
    "            el = el.replace(word,' ')\n",
    "        aux.append(el)\n",
    "    return aux\n",
    "\n",
    "def remove_stopwords(serie, stopwords):\n",
    "    tokenizer = nltk.WordPunctTokenizer()\n",
    "\n",
    "    result_serie= list()\n",
    "    for row in serie:\n",
    "        aux = list()\n",
    "        text_row = tokenizer.tokenize(row.lower())\n",
    "        for word in text_row:\n",
    "            if word not in stopwords: # stopwords\n",
    "                aux.append(word)\n",
    "        result_serie.append(' '.join(aux))\n",
    "    return result_serie\n"
   ]
  },
  {
   "cell_type": "code",
   "execution_count": null,
   "metadata": {},
   "outputs": [],
   "source": [
    "data_bad_good.text = data_bad_good.text.str.lower()\n",
    "data_bad_good.text = remove_stopwords(data_bad_good.text, punctuation)\n",
    "data_bad_good.text = remove_stopwords(data_bad_good.text, stopwords)"
   ]
  },
  {
   "cell_type": "code",
   "execution_count": null,
   "metadata": {
    "scrolled": true
   },
   "outputs": [],
   "source": [
    "punctuation"
   ]
  },
  {
   "cell_type": "code",
   "execution_count": null,
   "metadata": {},
   "outputs": [],
   "source": [
    "data_bad_good"
   ]
  },
  {
   "cell_type": "code",
   "execution_count": null,
   "metadata": {},
   "outputs": [],
   "source": [
    "##Veamos la distribución de las reseñas en función de las estrellas y la longitud.\n",
    "\n",
    "g = sns.FacetGrid(data_bad_good,col='stars')\n",
    "g.map(plt.hist,'length')\n"
   ]
  },
  {
   "cell_type": "code",
   "execution_count": null,
   "metadata": {},
   "outputs": [],
   "source": [
    "sns.boxplot(x='stars',y='length',data=data_bad_good,palette='rainbow')\n"
   ]
  },
  {
   "cell_type": "code",
   "execution_count": null,
   "metadata": {},
   "outputs": [],
   "source": [
    "sns.countplot(x='stars',data=data_bad_good,palette='rainbow')\n"
   ]
  },
  {
   "cell_type": "code",
   "execution_count": null,
   "metadata": {},
   "outputs": [],
   "source": [
    "stars = data_bad_good.groupby('stars').mean()\n",
    "stars"
   ]
  },
  {
   "cell_type": "code",
   "execution_count": null,
   "metadata": {},
   "outputs": [],
   "source": [
    "sns.kdeplot(x ='length', hue='stars',data= data_bad_good)\n",
    "plt.box(False)"
   ]
  },
  {
   "cell_type": "code",
   "execution_count": null,
   "metadata": {},
   "outputs": [],
   "source": [
    "## Vamos a detectar el idioma en el que fueron realizadas las reseñas\n",
    "\n",
    "def get_review_language(row):\n",
    "    try:\n",
    "        language = detect(row)\n",
    "    except:\n",
    "        language = \"error\"\n",
    "        \n",
    "    return language\n",
    "\n",
    "data_bad_good[\"language\"] = data_bad_good['text'].apply(get_review_language)\n"
   ]
  },
  {
   "cell_type": "code",
   "execution_count": null,
   "metadata": {},
   "outputs": [],
   "source": [
    "data_bad_good[\"language\"].value_counts()\n"
   ]
  },
  {
   "cell_type": "code",
   "execution_count": null,
   "metadata": {},
   "outputs": [],
   "source": [
    "## Como vemos que mayoritariamente estan escritas en ingles, solos nos quedamos con estas reseñas y descartamos las demas.\n",
    "data_bad_good2=data_bad_good[data_bad_good[\"language\"]=='en']\n",
    "data_bad_good2\n",
    "data_bad_good2.to_csv('reviews_yelp_en')"
   ]
  },
  {
   "cell_type": "code",
   "execution_count": null,
   "metadata": {},
   "outputs": [],
   "source": [
    "## No nos quedamos con reseñas muy largas que probablemente sean de personas que cuenten cosas que no sean significativas, ni muy cortas\n",
    "\n",
    "quantile1, quantile3= np.percentile(data_bad_good2[data_bad_good2['stars']==1].length,[10,90])\n",
    "print(quantile1,quantile3)\n",
    "aux1=data_bad_good2[(data_bad_good2['stars']==1) & (data_bad_good2['length']>quantile1) & (data_bad_good2['length']<quantile3) ]\n",
    "\n",
    "quantile1, quantile3= np.percentile(data_bad_good2[data_bad_good2['stars']==5].length,[10,90])\n",
    "print(quantile1,quantile3)\n",
    "aux2=data_bad_good2[(data_bad_good2['stars']==5) & (data_bad_good2['length']>quantile1) & (data_bad_good2['length']<quantile3) ]\n",
    "\n",
    "data_bad_good = pd.concat([aux1,aux2])\n",
    "#df_work.shape"
   ]
  },
  {
   "cell_type": "code",
   "execution_count": null,
   "metadata": {},
   "outputs": [],
   "source": [
    "data_bad_good2"
   ]
  },
  {
   "cell_type": "code",
   "execution_count": null,
   "metadata": {},
   "outputs": [],
   "source": [
    "### A modo de entrenar con la misma cantidad de reseñas igualamos las cantidades al menor. \n",
    "aux1=data_bad_good2[data_bad_good2['stars']==5].sample(data_bad_good2[data_bad_good2['stars']==1].shape[0])\n",
    "aux2=data_bad_good2[data_bad_good2['stars']==1]\n",
    "data_bad_good3 = pd.concat([aux1,aux2])\n",
    "data_bad_good3\n",
    "\n"
   ]
  },
  {
   "cell_type": "code",
   "execution_count": null,
   "metadata": {},
   "outputs": [],
   "source": [
    "sns.countplot(x='stars',data=data_bad_good3,palette='rainbow')\n"
   ]
  },
  {
   "cell_type": "markdown",
   "metadata": {},
   "source": [
    "### Modelling"
   ]
  },
  {
   "cell_type": "code",
   "execution_count": null,
   "metadata": {},
   "outputs": [],
   "source": [
    "vectorize = CountVectorizer()\n",
    "\n",
    "X = vectorize.fit_transform(data_bad_good3.text)\n",
    "Y = data_bad_good3.stars.map({5: 1, 1: 0}).values"
   ]
  },
  {
   "cell_type": "code",
   "execution_count": null,
   "metadata": {},
   "outputs": [],
   "source": [
    "X"
   ]
  },
  {
   "cell_type": "code",
   "execution_count": null,
   "metadata": {},
   "outputs": [],
   "source": [
    "cv = CountVectorizer()\n",
    "X = cv.fit_transform(X)"
   ]
  },
  {
   "cell_type": "code",
   "execution_count": null,
   "metadata": {},
   "outputs": [],
   "source": [
    "pipeline = Pipeline([\n",
    "    ('bow', CountVectorizer()),  # strings to token integer counts\n",
    "    ('tfidf', TfidfTransformer()),  # integer counts to weighted TF-IDF scores\n",
    "    ('classifier', MultinomialNB()),  # train on TF-IDF vectors w/ Naive Bayes classifier\n",
    "])\n",
    "\n"
   ]
  },
  {
   "cell_type": "code",
   "execution_count": null,
   "metadata": {},
   "outputs": [],
   "source": [
    "X_train, X_test, y_train, y_test = train_test_split(\n",
    "    X, Y, test_size=0.2, random_state=42\n",
    ")\n",
    "\n",
    "#model = MultinomialNB()\n",
    "\n",
    "pipeline.fit(X_train, y_train)"
   ]
  },
  {
   "cell_type": "code",
   "execution_count": null,
   "metadata": {},
   "outputs": [],
   "source": [
    "predictions = model.predict(X_test)\n"
   ]
  },
  {
   "cell_type": "code",
   "execution_count": null,
   "metadata": {},
   "outputs": [],
   "source": [
    "print(classification_report(y_test, predictions))"
   ]
  },
  {
   "cell_type": "code",
   "execution_count": null,
   "metadata": {},
   "outputs": [],
   "source": [
    "confusion_matrix(y_test, predictions)"
   ]
  },
  {
   "cell_type": "markdown",
   "metadata": {},
   "source": [
    "## Metricas del desempeño"
   ]
  },
  {
   "cell_type": "code",
   "execution_count": null,
   "metadata": {},
   "outputs": [],
   "source": [
    "print('Accuracy score: ', format(accuracy_score(y_test, predictions)))\n",
    "print('Precision score: ', format(precision_score(y_test, predictions)))\n",
    "print('Recall score: ', format(recall_score(y_test, predictions)))\n",
    "print('F1 score: ', format(f1_score(y_test, predictions)))\n",
    "\n",
    "from sklearn.metrics import classification_report\n",
    "print(classification_report(ytrue, langdetect_preds_binary))\n",
    "print(classification_report(ytrue, spacy_preds_binary))\n",
    "print(classification_report(ytrue, langid_preds_binary))\n",
    "print(classification_report(ytrue, fasttext_preds_binary))"
   ]
  },
  {
   "cell_type": "markdown",
   "metadata": {},
   "source": [
    "Conclusiones:"
   ]
  }
 ],
 "metadata": {
  "kernelspec": {
   "display_name": "Python 3 (ipykernel)",
   "language": "python",
   "name": "python3"
  },
  "language_info": {
   "codemirror_mode": {
    "name": "ipython",
    "version": 3
   },
   "file_extension": ".py",
   "mimetype": "text/x-python",
   "name": "python",
   "nbconvert_exporter": "python",
   "pygments_lexer": "ipython3",
   "version": "3.8.8"
  }
 },
 "nbformat": 4,
 "nbformat_minor": 4
}
